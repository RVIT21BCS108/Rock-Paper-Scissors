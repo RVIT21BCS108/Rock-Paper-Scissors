{
  "nbformat": 4,
  "nbformat_minor": 0,
  "metadata": {
    "colab": {
      "provenance": [],
      "authorship_tag": "ABX9TyMPGjwuVsgO6wLYmWMnfQ6H",
      "include_colab_link": true
    },
    "kernelspec": {
      "name": "python3",
      "display_name": "Python 3"
    },
    "language_info": {
      "name": "python"
    }
  },
  "cells": [
    {
      "cell_type": "markdown",
      "metadata": {
        "id": "view-in-github",
        "colab_type": "text"
      },
      "source": [
        "<a href=\"https://colab.research.google.com/github/RVIT21BCS108/Rock-Paper-Scissors/blob/main/Rock_Paper_Scissors.ipynb\" target=\"_parent\"><img src=\"https://colab.research.google.com/assets/colab-badge.svg\" alt=\"Open In Colab\"/></a>"
      ]
    },
    {
      "cell_type": "code",
      "execution_count": null,
      "metadata": {
        "id": "NBVvboET7Z6Z"
      },
      "outputs": [],
      "source": [
        "import random\n",
        "user_input=input(\"Type 0 for rock, 1 for paper and 2 for scissors\\n\")\n",
        "user_input=int(user_input)\n",
        "computer_choice=random.randint(0,2)\n",
        "if user_input<0 or user_input>2:\n",
        "    print(\"Invalid input\")\n",
        "elif user_input==computer_choice:\n",
        "    print(\"Its a draw\")\n",
        "elif user_input>computer_choice:\n",
        "    print(\"You win!\")\n",
        "elif user_input<computer_choice:\n",
        "    print(\"You lose!\")\n",
        "elif user_input==0 and computer_choice==2:\n",
        "    print(\"You win!\")\n",
        "elif user_input==2 and computer_choice==0:\n",
        "    print(\"You lose!\")\n"
      ]
    }
  ]
}